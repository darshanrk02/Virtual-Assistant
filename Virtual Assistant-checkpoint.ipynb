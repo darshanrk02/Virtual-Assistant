{
 "cells": [
  {
   "cell_type": "markdown",
   "id": "642de386",
   "metadata": {},
   "source": [
    "Text to speech conversion using python pyttsx3"
   ]
  },
  {
   "cell_type": "code",
   "execution_count": 1,
   "id": "10203e20",
   "metadata": {},
   "outputs": [],
   "source": [
    "import pyttsx3"
   ]
  },
  {
   "cell_type": "code",
   "execution_count": 17,
   "id": "0f587fc6",
   "metadata": {},
   "outputs": [],
   "source": [
    "def speak(Text):\n",
    "    engine = pyttsx3.init(\"sapi5\")\n",
    "    # sapi5 is microsofts speaking api/software\n",
    "\n",
    "    voices = engine.getProperty('voices')\n",
    "    # storing different voices in variable called voices\n",
    "\n",
    "    engine.setProperty('voices',voices[0].id)\n",
    "    engine.setProperty('rate',200)\n",
    "    # speed at which the voice assistant speaks\n",
    "    \n",
    "    print(f\"A.I : {Text}\")\n",
    "    engine.say(text = Text)\n",
    "    engine.runAndWait()\n",
    "    \n",
    "# speak(\"Hello... How are you\")   \n"
   ]
  },
  {
   "cell_type": "markdown",
   "id": "5e2d9ebd",
   "metadata": {},
   "source": [
    "It recognizes speech and displays the textual form of it"
   ]
  },
  {
   "cell_type": "code",
   "execution_count": 3,
   "id": "aae2e163",
   "metadata": {},
   "outputs": [],
   "source": [
    "import speech_recognition as sr"
   ]
  },
  {
   "cell_type": "code",
   "execution_count": 4,
   "id": "f92ad767",
   "metadata": {},
   "outputs": [],
   "source": [
    "def listen():\n",
    "    #recognize voice from mic\n",
    "    rec = sr.Recognizer()\n",
    "    \n",
    "    with sr.Microphone() as source:\n",
    "        print(\"Listening.....\")\n",
    "        rec.pause_threshold = 1\n",
    "        audio = rec.listen(source,0,2)\n",
    "        \n",
    "    try:\n",
    "        print(\"Recognizing...\")\n",
    "        query = rec.recognize_google(audio, language = \"en-in\")\n",
    "        print(f\"your query: {query}\")\n",
    "        \n",
    "    except:\n",
    "        return \"\"\n",
    "\n",
    "    query = str(query)\n",
    "    return query.lower()\n",
    "\n",
    "# speak(listen())  \n"
   ]
  },
  {
   "cell_type": "markdown",
   "id": "469585e5",
   "metadata": {},
   "source": [
    "Creating the brain of the neural network(defining the architecture of the neural network)"
   ]
  },
  {
   "cell_type": "code",
   "execution_count": 5,
   "id": "9d708664",
   "metadata": {},
   "outputs": [],
   "source": [
    "import torch.nn as nn"
   ]
  },
  {
   "cell_type": "code",
   "execution_count": 6,
   "id": "9dfb6b9f",
   "metadata": {},
   "outputs": [],
   "source": [
    "class NeuralNet(nn.Module):\n",
    "    def __init__(self, input_size, hidden_size, num_classes):\n",
    "        super(NeuralNet, self).__init__()\n",
    "        \n",
    "        #creating three hidden layers in the neural network\n",
    "        self.l1 = nn.Linear(input_size, hidden_size)\n",
    "        self.l2 = nn.Linear(hidden_size, hidden_size)\n",
    "        self.l3 = nn.Linear(hidden_size, num_classes)\n",
    "        self.relu = nn.ReLU()\n",
    "    \n",
    "    def forward(self, x):\n",
    "        #takes input x and produces output which is then passed into relu in layer 1\n",
    "        out = self.l1(x)\n",
    "        out = self.relu(out)\n",
    "        \n",
    "        #takes input 'out' from layer 1 and produces output which is then passed into relu in layer 2\n",
    "        out = self.l2(out)\n",
    "        out = self.relu(out)\n",
    "        \n",
    "        #takes input 'out' from layer 2 and produces final output\n",
    "        out = self.l3(out)\n",
    "        return out"
   ]
  },
  {
   "cell_type": "markdown",
   "id": "99b42b11",
   "metadata": {},
   "source": [
    "Adding neurons into the brain"
   ]
  },
  {
   "cell_type": "code",
   "execution_count": 7,
   "id": "91c54bea",
   "metadata": {},
   "outputs": [],
   "source": [
    "import numpy as np\n",
    "import nltk\n",
    "from nltk.stem.porter import PorterStemmer"
   ]
  },
  {
   "cell_type": "code",
   "execution_count": 8,
   "id": "a00228c3",
   "metadata": {},
   "outputs": [],
   "source": [
    "stemmer = PorterStemmer()\n",
    "\n",
    "# tokenize the sentence that is given as input\n",
    "def tokenize(sentence):\n",
    "    return nltk.word_tokenize(sentence)\n",
    "\n",
    "# the below code performs stemming. For example, in the word Flying, “ing” is the suffix. The original stem word is Fly.\n",
    "def stem(word):\n",
    "    return stemmer.stem(word.lower())\n",
    "\n",
    "# it stores all the tokenized stemmed words in a bag(list)\n",
    "def bag_of_words(tokenized_sentence, words):\n",
    "    \n",
    "    sentence_word = [stem(word) for word in tokenized_sentence]\n",
    "    bag = np.zeros(len(words), dtype=np.float32)\n",
    "    \n",
    "    for idx, w in enumerate(words):\n",
    "        if w in sentence_word:\n",
    "            bag[idx] = 1\n",
    "            \n",
    "    return bag\n",
    "    "
   ]
  },
  {
   "cell_type": "markdown",
   "id": "d50ac3b9",
   "metadata": {},
   "source": [
    "Training our assistant with the data set\n"
   ]
  },
  {
   "cell_type": "code",
   "execution_count": 9,
   "id": "ae6b48d5",
   "metadata": {},
   "outputs": [
    {
     "name": "stdout",
     "output_type": "stream",
     "text": [
      "[[0. 0. 0. 0. 0. 0. 0. 0. 0. 1. 0. 0. 0. 0. 0. 0. 0. 0. 0. 0. 0. 0. 0. 0.\n",
      "  0. 0. 0. 0.]\n",
      " [0. 0. 0. 0. 0. 0. 0. 0. 0. 0. 0. 1. 0. 0. 0. 0. 0. 0. 0. 0. 0. 0. 0. 0.\n",
      "  0. 0. 0. 0.]\n",
      " [0. 0. 0. 0. 0. 0. 0. 0. 0. 0. 1. 0. 0. 0. 0. 0. 0. 0. 0. 0. 0. 0. 0. 0.\n",
      "  0. 0. 0. 0.]\n",
      " [0. 0. 0. 0. 0. 0. 0. 0. 0. 0. 0. 0. 0. 0. 0. 0. 0. 0. 0. 0. 0. 1. 0. 1.\n",
      "  0. 0. 0. 0.]\n",
      " [0. 0. 0. 1. 0. 0. 0. 0. 0. 0. 0. 0. 0. 0. 0. 0. 0. 0. 0. 0. 0. 0. 0. 0.\n",
      "  0. 0. 0. 0.]\n",
      " [0. 0. 0. 1. 0. 0. 0. 1. 0. 0. 0. 0. 0. 0. 0. 0. 0. 0. 0. 0. 0. 0. 0. 0.\n",
      "  0. 0. 0. 0.]\n",
      " [0. 0. 0. 0. 0. 0. 0. 0. 0. 0. 0. 0. 0. 0. 1. 0. 0. 1. 0. 0. 0. 0. 0. 0.\n",
      "  0. 0. 0. 1.]\n",
      " [0. 0. 0. 0. 0. 1. 0. 0. 0. 0. 0. 0. 0. 0. 0. 0. 0. 0. 0. 0. 0. 0. 0. 0.\n",
      "  0. 0. 0. 0.]\n",
      " [0. 0. 1. 0. 0. 0. 0. 0. 0. 0. 0. 0. 1. 0. 0. 0. 0. 0. 0. 0. 0. 0. 0. 0.\n",
      "  0. 0. 0. 1.]\n",
      " [0. 0. 0. 0. 0. 0. 0. 0. 0. 0. 0. 0. 1. 0. 0. 0. 0. 0. 0. 0. 0. 0. 0. 0.\n",
      "  0. 0. 0. 1.]\n",
      " [0. 0. 1. 0. 0. 0. 1. 0. 0. 0. 0. 0. 0. 0. 0. 0. 0. 0. 0. 0. 0. 0. 0. 0.\n",
      "  0. 0. 0. 1.]\n",
      " [0. 0. 1. 0. 0. 0. 0. 1. 0. 0. 0. 0. 0. 0. 0. 0. 0. 0. 0. 0. 0. 0. 0. 0.\n",
      "  0. 0. 0. 1.]\n",
      " [0. 0. 0. 0. 0. 0. 0. 0. 0. 0. 0. 0. 0. 0. 0. 0. 0. 0. 0. 1. 0. 0. 0. 0.\n",
      "  0. 0. 0. 0.]\n",
      " [1. 0. 0. 0. 0. 0. 0. 0. 0. 0. 0. 0. 0. 0. 0. 0. 0. 0. 1. 1. 0. 0. 0. 0.\n",
      "  1. 0. 0. 0.]\n",
      " [0. 0. 0. 0. 0. 0. 0. 0. 0. 0. 0. 0. 0. 0. 0. 0. 0. 0. 0. 1. 0. 0. 1. 0.\n",
      "  0. 0. 0. 0.]\n",
      " [0. 0. 0. 0. 0. 0. 0. 0. 0. 0. 0. 0. 0. 0. 0. 1. 0. 0. 1. 1. 0. 0. 0. 0.\n",
      "  1. 0. 0. 0.]\n",
      " [0. 0. 0. 0. 1. 0. 0. 0. 0. 0. 0. 0. 0. 0. 0. 0. 0. 0. 0. 0. 0. 0. 0. 0.\n",
      "  0. 0. 0. 0.]\n",
      " [1. 0. 0. 0. 1. 0. 0. 0. 0. 0. 0. 0. 0. 0. 0. 0. 0. 0. 1. 0. 0. 0. 0. 0.\n",
      "  1. 0. 0. 0.]\n",
      " [1. 0. 0. 0. 1. 0. 0. 0. 0. 0. 0. 0. 0. 0. 0. 0. 0. 0. 0. 0. 1. 0. 0. 0.\n",
      "  1. 0. 0. 0.]\n",
      " [0. 0. 0. 0. 1. 0. 0. 0. 0. 0. 0. 0. 0. 0. 0. 0. 0. 0. 0. 0. 0. 0. 1. 0.\n",
      "  0. 0. 0. 0.]\n",
      " [0. 0. 0. 0. 0. 0. 0. 0. 0. 0. 0. 0. 0. 1. 0. 0. 0. 0. 0. 0. 0. 0. 0. 0.\n",
      "  0. 1. 0. 0.]\n",
      " [0. 1. 0. 0. 0. 0. 0. 0. 0. 0. 0. 0. 0. 0. 0. 0. 0. 0. 0. 0. 0. 0. 0. 0.\n",
      "  0. 0. 0. 0.]\n",
      " [0. 0. 0. 0. 0. 0. 0. 0. 0. 0. 0. 0. 0. 1. 0. 0. 0. 0. 0. 0. 0. 0. 0. 0.\n",
      "  1. 0. 0. 0.]\n",
      " [0. 0. 0. 0. 0. 0. 0. 0. 0. 0. 0. 0. 0. 0. 0. 0. 0. 0. 0. 0. 0. 0. 0. 0.\n",
      "  0. 0. 1. 0.]\n",
      " [0. 0. 0. 0. 0. 0. 0. 0. 1. 0. 0. 0. 0. 0. 0. 0. 0. 0. 0. 0. 0. 0. 0. 0.\n",
      "  0. 0. 0. 0.]\n",
      " [0. 0. 0. 0. 0. 0. 0. 0. 0. 0. 0. 0. 0. 0. 0. 0. 1. 0. 0. 0. 0. 0. 0. 0.\n",
      "  0. 0. 0. 0.]\n",
      " [0. 0. 0. 0. 0. 0. 0. 0. 1. 0. 0. 0. 0. 0. 0. 0. 1. 0. 0. 0. 0. 0. 0. 0.\n",
      "  0. 0. 0. 0.]]\n",
      "Training the model...\n"
     ]
    }
   ],
   "source": [
    "import json\n",
    "import torch \n",
    "\n",
    "with open('C:/Users/DARSHAN R K/Desktop/HI/intents.json','r') as f:\n",
    "    intents = json.load(f)\n",
    "\n",
    "all_words = []\n",
    "tags = []\n",
    "xy = []\n",
    "\n",
    "for intent in intents[\"intents\"]:\n",
    "    tag = intent['tag']\n",
    "    tags.append(tag)\n",
    "    \n",
    "    \n",
    "    for pattern in intent[\"patterns\"]:\n",
    "        #tokenize is function defined above which tokenizes the patterns  \n",
    "        w = tokenize(pattern)\n",
    "        all_words.extend(w)\n",
    "        xy.append((w,tag))\n",
    "        \n",
    "# the below code is used to ignore special characters\n",
    "ignore_words = [',', '?','/', '.', '!' ]\n",
    "all_words = [stem(w) for w in all_words if w not in ignore_words]\n",
    "\n",
    "# print(all_words)\n",
    "# print(\"\\n\")\n",
    "                        \n",
    "all_words = sorted(set(all_words))\n",
    "tags = sorted(set(tags))\n",
    "\n",
    "# print(xy)\n",
    "\n",
    "x_train = []\n",
    "y_train = []\n",
    "\n",
    "\n",
    "for (pattern_sentence, tag) in xy:\n",
    "    bag = bag_of_words(pattern_sentence, all_words)\n",
    "    x_train.append(bag)\n",
    "#     print(x_train)\n",
    "    \n",
    "    label = tags.index(tag)\n",
    "    y_train.append(label)\n",
    "\n",
    "# print(bag)\n",
    "x_train = np.array(x_train)\n",
    "y_train = np.array(y_train)\n",
    "\n",
    "print(x_train)\n",
    "# print(y_train)\n",
    "\n",
    "num_epochs = 1000\n",
    "batch_size = 8\n",
    "learning_rate = 0.001\n",
    "input_size = len(x_train[0])\n",
    "hidden_size = len(x_train[0])\n",
    "output_size = len(x_train[0])\n",
    "\n",
    "print(\"Training the model...\")\n",
    "\n",
    "\n"
   ]
  },
  {
   "cell_type": "code",
   "execution_count": 10,
   "id": "b7392000",
   "metadata": {},
   "outputs": [],
   "source": [
    "from torch.utils.data import Dataset, DataLoader\n",
    "\n",
    "class ChatDataset(Dataset):\n",
    "        def __init__(self):\n",
    "            self.n_samples = len(x_train)\n",
    "            self.x_data = x_train\n",
    "            self.y_data = y_train\n",
    "            \n",
    "        def __getitem__(self, index):\n",
    "            return self.x_data[index],self.y_data[index]\n",
    "        \n",
    "        def __len__(self):\n",
    "            return self.n_samples\n",
    "        \n",
    "data_set = ChatDataset()\n",
    "\n",
    "train_loader = DataLoader(dataset=data_set, batch_size=batch_size, shuffle=True, num_workers=0)\n",
    "\n",
    "\n",
    "device = torch.device('cuda' if torch.cuda.is_available() else 'cpu')\n",
    "model = NeuralNet(input_size, hidden_size, output_size).to(device=device)\n",
    "criterion = nn.CrossEntropyLoss()\n",
    "optimizer = torch.optim.Adam(model.parameters(), lr=learning_rate)\n"
   ]
  },
  {
   "cell_type": "markdown",
   "id": "62d6adb7",
   "metadata": {},
   "source": [
    "Making pth file because it is easy to access\n"
   ]
  },
  {
   "cell_type": "code",
   "execution_count": 11,
   "id": "ffe40c13",
   "metadata": {},
   "outputs": [
    {
     "name": "stdout",
     "output_type": "stream",
     "text": [
      "Epoch [100/1000], Loss: 0.1273\n",
      "Epoch [200/1000], Loss: 0.0119\n",
      "Epoch [300/1000], Loss: 0.0058\n",
      "Epoch [400/1000], Loss: 0.0002\n",
      "Epoch [500/1000], Loss: 0.0015\n",
      "Epoch [600/1000], Loss: 0.0011\n",
      "Epoch [700/1000], Loss: 0.0003\n",
      "Epoch [800/1000], Loss: 0.0002\n",
      "Epoch [900/1000], Loss: 0.0001\n",
      "Epoch [1000/1000], Loss: 0.0001\n",
      "Final loss: 0.0001\n"
     ]
    }
   ],
   "source": [
    "for epoch in range(num_epochs):\n",
    "    for(words,labels) in train_loader:\n",
    "        \n",
    "        words = words.to(device)\n",
    "        labels = labels.to(dtype=torch.long).to(device)\n",
    "        outputs = model(words)\n",
    "        loss = criterion(outputs,labels)\n",
    "        optimizer.zero_grad()\n",
    "        loss.backward()\n",
    "        optimizer.step()\n",
    "        \n",
    "    if (epoch+1)%100 == 0:\n",
    "        print(f\"Epoch [{epoch+1}/{num_epochs}], Loss: {loss.item():.4f}\")\n",
    "            \n",
    "print(f\"Final loss: {loss.item():.4f}\")"
   ]
  },
  {
   "cell_type": "code",
   "execution_count": 12,
   "id": "746c3e6d",
   "metadata": {},
   "outputs": [
    {
     "name": "stdout",
     "output_type": "stream",
     "text": [
      "Training complete!.., File saved to TrainData.pth\n"
     ]
    }
   ],
   "source": [
    "data = {\n",
    "    \"model_state\":model.state_dict(),\n",
    "    \"input_size\":input_size,\n",
    "    \"hidden_size\":hidden_size,\n",
    "    \"output_size\":output_size,\n",
    "    \"all_words\":all_words,\n",
    "    \"tags\":tags\n",
    "}\n",
    "\n",
    "FILE = \"TrainData.pth\"\n",
    "torch.save(data,FILE)\n",
    "\n",
    "print(f\"Training complete!.., File saved to {FILE}\")"
   ]
  },
  {
   "cell_type": "markdown",
   "id": "2fc98620",
   "metadata": {},
   "source": [
    "Building a virtual assistant"
   ]
  },
  {
   "cell_type": "code",
   "execution_count": 13,
   "id": "4db3366d",
   "metadata": {},
   "outputs": [
    {
     "data": {
      "text/plain": [
       "NeuralNet(\n",
       "  (l1): Linear(in_features=28, out_features=28, bias=True)\n",
       "  (l2): Linear(in_features=28, out_features=28, bias=True)\n",
       "  (l3): Linear(in_features=28, out_features=28, bias=True)\n",
       "  (relu): ReLU()\n",
       ")"
      ]
     },
     "execution_count": 13,
     "metadata": {},
     "output_type": "execute_result"
    }
   ],
   "source": [
    "import random\n",
    "\n",
    "device = torch.device('cuda' if torch.cuda.is_available() else 'cpu')\n",
    "\n",
    "# loading the data from json file\n",
    "with open(\"intents.json\",\"r\") as json_data:\n",
    "    intents = json.load(json_data)\n",
    "    \n",
    "FILE = \"TrainData.pth\"\n",
    "data = torch.load(FILE)\n",
    "\n",
    "input_size = data[\"input_size\"]\n",
    "hidden_size = data[\"hidden_size\"]\n",
    "output_size = data[\"output_size\"]\n",
    "all_words = data[\"all_words\"]\n",
    "tags = data[\"tags\"]\n",
    "model_state = data[\"model_state\"]\n",
    "\n",
    "model = NeuralNet(input_size, hidden_size, output_size).to(device)\n",
    "model.load_state_dict(model_state)\n",
    "model.eval()\n"
   ]
  },
  {
   "cell_type": "markdown",
   "id": "2464bb69",
   "metadata": {},
   "source": [
    "Adding non-input functions"
   ]
  },
  {
   "cell_type": "code",
   "execution_count": 14,
   "id": "20dbf011",
   "metadata": {},
   "outputs": [],
   "source": [
    "import datetime\n",
    "\n",
    "def Time():\n",
    "    time = datetime.datetime.now().strftime(\"%H:%M\")\n",
    "    speak(time)\n",
    "    \n",
    "def Date():\n",
    "    date = datatime.date.today()\n",
    "    speak(date)\n",
    "\n",
    "def NonInputExecution(query):\n",
    "    \n",
    "    query = str(query)\n",
    "    \n",
    "    if \"time\" in query:\n",
    "        Time()\n",
    "    \n",
    "    elif \"date\" in query:\n",
    "        Date()\n"
   ]
  },
  {
   "cell_type": "markdown",
   "id": "0c3d4607",
   "metadata": {},
   "source": [
    "Adding input functions"
   ]
  },
  {
   "cell_type": "code",
   "execution_count": 15,
   "id": "f19ab59d",
   "metadata": {},
   "outputs": [],
   "source": [
    "import wikipedia\n",
    "import pywhatkit\n",
    "\n",
    "def InputExecution(tag,query):\n",
    "    \n",
    "    if \"wikipedia\" in tag:\n",
    "        name = str(query).replace(\"who is\",\"\").replace(\"about\",\"\").replace(\"what is\",\"\").replace(\"wikipedia\",\"\")\n",
    "        result = wikipedia.summary(name)\n",
    "        speak(result)\n",
    "    \n",
    "    elif \"google\" in tag:\n",
    "        query = str(query).replace(\"google\",\"\").replace(\"search\",\"\")\n",
    "        pywhatkit.search(query)\n",
    "        \n",
    "\n",
    "    "
   ]
  },
  {
   "cell_type": "code",
   "execution_count": 16,
   "id": "01a62cef",
   "metadata": {},
   "outputs": [
    {
     "name": "stdout",
     "output_type": "stream",
     "text": [
      "Listening.....\n",
      "Recognizing...\n",
      "result2:\n",
      "[]\n",
      "Listening.....\n",
      "Recognizing...\n",
      "result2:\n",
      "{   'alternative': [{'confidence': 0.81166351, 'transcript': 'hello'}],\n",
      "    'final': True}\n",
      "your query: hello\n",
      "A.I : Always for you\n",
      "Listening.....\n",
      "Recognizing...\n",
      "result2:\n",
      "[]\n",
      "Listening.....\n",
      "Recognizing...\n",
      "result2:\n",
      "[]\n",
      "Listening.....\n",
      "Recognizing...\n",
      "result2:\n",
      "{   'alternative': [{'confidence': 0.88687539, 'transcript': 'hello'}],\n",
      "    'final': True}\n",
      "your query: hello\n",
      "A.I : hello, how are you?\n",
      "Listening.....\n",
      "Recognizing...\n",
      "result2:\n",
      "[]\n",
      "Listening.....\n",
      "Recognizing...\n",
      "result2:\n",
      "{   'alternative': [{'confidence': 0.88687539, 'transcript': 'hello'}],\n",
      "    'final': True}\n",
      "your query: hello\n",
      "A.I : hey, i'm dabhi\n",
      "Listening.....\n",
      "Recognizing...\n",
      "result2:\n",
      "[]\n",
      "Listening.....\n",
      "Recognizing...\n",
      "result2:\n",
      "[]\n",
      "Listening.....\n",
      "Recognizing...\n",
      "result2:\n",
      "{   'alternative': [{'confidence': 0.88687539, 'transcript': 'hello'}],\n",
      "    'final': True}\n",
      "your query: hello\n",
      "A.I : Always for you\n",
      "Listening.....\n",
      "Recognizing...\n",
      "result2:\n",
      "{   'alternative': [{'confidence': 0.8702004, 'transcript': 'hello'}],\n",
      "    'final': True}\n",
      "your query: hello\n",
      "A.I : Always for you\n",
      "Listening.....\n",
      "Recognizing...\n",
      "result2:\n",
      "[]\n",
      "Listening.....\n",
      "Recognizing...\n",
      "result2:\n",
      "[]\n",
      "Listening.....\n",
      "Recognizing...\n",
      "result2:\n",
      "{   'alternative': [{'confidence': 0.86256599, 'transcript': 'hello'}],\n",
      "    'final': True}\n",
      "your query: hello\n",
      "A.I : hello, i'm dabhi\n",
      "Listening.....\n",
      "Recognizing...\n",
      "result2:\n",
      "[]\n",
      "Listening.....\n"
     ]
    },
    {
     "ename": "KeyboardInterrupt",
     "evalue": "",
     "output_type": "error",
     "traceback": [
      "\u001b[1;31m---------------------------------------------------------------------------\u001b[0m",
      "\u001b[1;31mKeyboardInterrupt\u001b[0m                         Traceback (most recent call last)",
      "\u001b[1;32m~\\AppData\\Local\\Temp\\ipykernel_18020\\1580478423.py\u001b[0m in \u001b[0;36m<module>\u001b[1;34m\u001b[0m\n\u001b[0;32m     43\u001b[0m \u001b[1;33m\u001b[0m\u001b[0m\n\u001b[0;32m     44\u001b[0m \u001b[1;32mwhile\u001b[0m \u001b[1;32mTrue\u001b[0m\u001b[1;33m:\u001b[0m\u001b[1;33m\u001b[0m\u001b[1;33m\u001b[0m\u001b[0m\n\u001b[1;32m---> 45\u001b[1;33m     \u001b[0mMain\u001b[0m\u001b[1;33m(\u001b[0m\u001b[1;33m)\u001b[0m\u001b[1;33m\u001b[0m\u001b[1;33m\u001b[0m\u001b[0m\n\u001b[0m",
      "\u001b[1;32m~\\AppData\\Local\\Temp\\ipykernel_18020\\1580478423.py\u001b[0m in \u001b[0;36mMain\u001b[1;34m()\u001b[0m\n\u001b[0;32m      2\u001b[0m \u001b[1;33m\u001b[0m\u001b[0m\n\u001b[0;32m      3\u001b[0m \u001b[1;32mdef\u001b[0m \u001b[0mMain\u001b[0m\u001b[1;33m(\u001b[0m\u001b[1;33m)\u001b[0m\u001b[1;33m:\u001b[0m\u001b[1;33m\u001b[0m\u001b[1;33m\u001b[0m\u001b[0m\n\u001b[1;32m----> 4\u001b[1;33m     \u001b[0msentence\u001b[0m \u001b[1;33m=\u001b[0m \u001b[0mlisten\u001b[0m\u001b[1;33m(\u001b[0m\u001b[1;33m)\u001b[0m\u001b[1;33m\u001b[0m\u001b[1;33m\u001b[0m\u001b[0m\n\u001b[0m\u001b[0;32m      5\u001b[0m     \u001b[0mresult\u001b[0m \u001b[1;33m=\u001b[0m \u001b[0mstr\u001b[0m\u001b[1;33m(\u001b[0m\u001b[0msentence\u001b[0m\u001b[1;33m)\u001b[0m\u001b[1;33m\u001b[0m\u001b[1;33m\u001b[0m\u001b[0m\n\u001b[0;32m      6\u001b[0m \u001b[1;33m\u001b[0m\u001b[0m\n",
      "\u001b[1;32m~\\AppData\\Local\\Temp\\ipykernel_18020\\69539067.py\u001b[0m in \u001b[0;36mlisten\u001b[1;34m()\u001b[0m\n\u001b[0;32m      6\u001b[0m         \u001b[0mprint\u001b[0m\u001b[1;33m(\u001b[0m\u001b[1;34m\"Listening.....\"\u001b[0m\u001b[1;33m)\u001b[0m\u001b[1;33m\u001b[0m\u001b[1;33m\u001b[0m\u001b[0m\n\u001b[0;32m      7\u001b[0m         \u001b[0mrec\u001b[0m\u001b[1;33m.\u001b[0m\u001b[0mpause_threshold\u001b[0m \u001b[1;33m=\u001b[0m \u001b[1;36m1\u001b[0m\u001b[1;33m\u001b[0m\u001b[1;33m\u001b[0m\u001b[0m\n\u001b[1;32m----> 8\u001b[1;33m         \u001b[0maudio\u001b[0m \u001b[1;33m=\u001b[0m \u001b[0mrec\u001b[0m\u001b[1;33m.\u001b[0m\u001b[0mlisten\u001b[0m\u001b[1;33m(\u001b[0m\u001b[0msource\u001b[0m\u001b[1;33m,\u001b[0m\u001b[1;36m0\u001b[0m\u001b[1;33m,\u001b[0m\u001b[1;36m2\u001b[0m\u001b[1;33m)\u001b[0m\u001b[1;33m\u001b[0m\u001b[1;33m\u001b[0m\u001b[0m\n\u001b[0m\u001b[0;32m      9\u001b[0m \u001b[1;33m\u001b[0m\u001b[0m\n\u001b[0;32m     10\u001b[0m     \u001b[1;32mtry\u001b[0m\u001b[1;33m:\u001b[0m\u001b[1;33m\u001b[0m\u001b[1;33m\u001b[0m\u001b[0m\n",
      "\u001b[1;32mC:\\Anaconda\\lib\\site-packages\\speech_recognition\\__init__.py\u001b[0m in \u001b[0;36mlisten\u001b[1;34m(self, source, timeout, phrase_time_limit, snowboy_configuration)\u001b[0m\n\u001b[0;32m    675\u001b[0m                         \u001b[1;32mraise\u001b[0m \u001b[0mWaitTimeoutError\u001b[0m\u001b[1;33m(\u001b[0m\u001b[1;34m\"listening timed out while waiting for phrase to start\"\u001b[0m\u001b[1;33m)\u001b[0m\u001b[1;33m\u001b[0m\u001b[1;33m\u001b[0m\u001b[0m\n\u001b[0;32m    676\u001b[0m \u001b[1;33m\u001b[0m\u001b[0m\n\u001b[1;32m--> 677\u001b[1;33m                     \u001b[0mbuffer\u001b[0m \u001b[1;33m=\u001b[0m \u001b[0msource\u001b[0m\u001b[1;33m.\u001b[0m\u001b[0mstream\u001b[0m\u001b[1;33m.\u001b[0m\u001b[0mread\u001b[0m\u001b[1;33m(\u001b[0m\u001b[0msource\u001b[0m\u001b[1;33m.\u001b[0m\u001b[0mCHUNK\u001b[0m\u001b[1;33m)\u001b[0m\u001b[1;33m\u001b[0m\u001b[1;33m\u001b[0m\u001b[0m\n\u001b[0m\u001b[0;32m    678\u001b[0m                     \u001b[1;32mif\u001b[0m \u001b[0mlen\u001b[0m\u001b[1;33m(\u001b[0m\u001b[0mbuffer\u001b[0m\u001b[1;33m)\u001b[0m \u001b[1;33m==\u001b[0m \u001b[1;36m0\u001b[0m\u001b[1;33m:\u001b[0m \u001b[1;32mbreak\u001b[0m  \u001b[1;31m# reached end of the stream\u001b[0m\u001b[1;33m\u001b[0m\u001b[1;33m\u001b[0m\u001b[0m\n\u001b[0;32m    679\u001b[0m                     \u001b[0mframes\u001b[0m\u001b[1;33m.\u001b[0m\u001b[0mappend\u001b[0m\u001b[1;33m(\u001b[0m\u001b[0mbuffer\u001b[0m\u001b[1;33m)\u001b[0m\u001b[1;33m\u001b[0m\u001b[1;33m\u001b[0m\u001b[0m\n",
      "\u001b[1;32mC:\\Anaconda\\lib\\site-packages\\speech_recognition\\__init__.py\u001b[0m in \u001b[0;36mread\u001b[1;34m(self, size)\u001b[0m\n\u001b[0;32m    209\u001b[0m \u001b[1;33m\u001b[0m\u001b[0m\n\u001b[0;32m    210\u001b[0m         \u001b[1;32mdef\u001b[0m \u001b[0mread\u001b[0m\u001b[1;33m(\u001b[0m\u001b[0mself\u001b[0m\u001b[1;33m,\u001b[0m \u001b[0msize\u001b[0m\u001b[1;33m)\u001b[0m\u001b[1;33m:\u001b[0m\u001b[1;33m\u001b[0m\u001b[1;33m\u001b[0m\u001b[0m\n\u001b[1;32m--> 211\u001b[1;33m             \u001b[1;32mreturn\u001b[0m \u001b[0mself\u001b[0m\u001b[1;33m.\u001b[0m\u001b[0mpyaudio_stream\u001b[0m\u001b[1;33m.\u001b[0m\u001b[0mread\u001b[0m\u001b[1;33m(\u001b[0m\u001b[0msize\u001b[0m\u001b[1;33m,\u001b[0m \u001b[0mexception_on_overflow\u001b[0m\u001b[1;33m=\u001b[0m\u001b[1;32mFalse\u001b[0m\u001b[1;33m)\u001b[0m\u001b[1;33m\u001b[0m\u001b[1;33m\u001b[0m\u001b[0m\n\u001b[0m\u001b[0;32m    212\u001b[0m \u001b[1;33m\u001b[0m\u001b[0m\n\u001b[0;32m    213\u001b[0m         \u001b[1;32mdef\u001b[0m \u001b[0mclose\u001b[0m\u001b[1;33m(\u001b[0m\u001b[0mself\u001b[0m\u001b[1;33m)\u001b[0m\u001b[1;33m:\u001b[0m\u001b[1;33m\u001b[0m\u001b[1;33m\u001b[0m\u001b[0m\n",
      "\u001b[1;32mC:\\Anaconda\\lib\\site-packages\\pyaudio\\__init__.py\u001b[0m in \u001b[0;36mread\u001b[1;34m(self, num_frames, exception_on_overflow)\u001b[0m\n\u001b[0;32m    568\u001b[0m                 raise IOError(\"Not input stream\",\n\u001b[0;32m    569\u001b[0m                               paCanNotReadFromAnOutputOnlyStream)\n\u001b[1;32m--> 570\u001b[1;33m             return pa.read_stream(self._stream, num_frames,\n\u001b[0m\u001b[0;32m    571\u001b[0m                                   exception_on_overflow)\n\u001b[0;32m    572\u001b[0m \u001b[1;33m\u001b[0m\u001b[0m\n",
      "\u001b[1;31mKeyboardInterrupt\u001b[0m: "
     ]
    }
   ],
   "source": [
    "Name = 'DAbhi'\n",
    "\n",
    "def Main():\n",
    "    sentence = listen()\n",
    "    result = str(sentence)\n",
    "    \n",
    "    if sentence == \"bye\":\n",
    "        exit()\n",
    "        \n",
    "    sentence = tokenize(sentence)\n",
    "    X = bag_of_words(sentence, all_words)\n",
    "    X = X.reshape(1,X.shape[0])\n",
    "    X = torch.from_numpy(X).to(device)\n",
    "    \n",
    "    output = model(X)\n",
    "    \n",
    "    _, predicted = torch.max(output, dim=1)\n",
    "    \n",
    "    tag = tags[predicted.item()]\n",
    "    \n",
    "    probs = torch.softmax(output, dim=1)\n",
    "    prob = probs[0][predicted.item()]\n",
    "    \n",
    "    if prob.item() > 0.75:\n",
    "        for intent in intents[\"intents\"]:\n",
    "            if tag == intent[\"tag\"]:\n",
    "                reply = random.choice(intent[\"response\"])\n",
    "                \n",
    "                if \"time\" in reply:\n",
    "                    NonInputExecution(reply)\n",
    "                    \n",
    "                elif \"date\" in reply:\n",
    "                    NonInputExecution(reply)\n",
    "                    \n",
    "                elif \"wikipedia\" in reply:\n",
    "                    InputExecution(reply, result)\n",
    "                    \n",
    "                elif \"google\" in reply:\n",
    "                    InputExecution(reply, result)\n",
    "                    \n",
    "                else:\n",
    "                    speak(reply)\n",
    "                    \n",
    "while True:\n",
    "    Main()\n"
   ]
  },
  {
   "cell_type": "code",
   "execution_count": null,
   "id": "495d6ac6",
   "metadata": {},
   "outputs": [],
   "source": []
  },
  {
   "cell_type": "code",
   "execution_count": null,
   "id": "f0a659af",
   "metadata": {},
   "outputs": [],
   "source": []
  }
 ],
 "metadata": {
  "kernelspec": {
   "display_name": "Python 3 (ipykernel)",
   "language": "python",
   "name": "python3"
  },
  "language_info": {
   "codemirror_mode": {
    "name": "ipython",
    "version": 3
   },
   "file_extension": ".py",
   "mimetype": "text/x-python",
   "name": "python",
   "nbconvert_exporter": "python",
   "pygments_lexer": "ipython3",
   "version": "3.9.13"
  }
 },
 "nbformat": 4,
 "nbformat_minor": 5
}
